{
 "cells": [
  {
   "cell_type": "markdown",
   "id": "82294fab-1356-4159-bce3-55da25085fdc",
   "metadata": {},
   "source": [
    "# eCommerce behavior data from multi category store using pyspark"
   ]
  },
  {
   "cell_type": "markdown",
   "id": "add5de1e-e2ba-488b-ab52-66d71db6634a",
   "metadata": {},
   "source": [
    "### Te cell below connects the notebook pyspark to the created cluster"
   ]
  },
  {
   "cell_type": "code",
   "execution_count": 1,
   "id": "3a1555c2-3934-41a5-9001-874a0b090e50",
   "metadata": {},
   "outputs": [],
   "source": [
    "from pyspark.sql import SparkSession\n",
    "from pyspark.sql.types import *\n",
    "\n",
    "spark = SparkSession.\\\n",
    "        builder.\\\n",
    "        appName(\"pyspark-notebook\").\\\n",
    "        master(\"spark://spark-master:7077\").\\\n",
    "        getOrCreate()"
   ]
  },
  {
   "cell_type": "markdown",
   "id": "75a9029e-037e-44bc-a497-4e4382bb5df6",
   "metadata": {},
   "source": [
    "### Next steps\n",
    "1. Create a variable that will have the path to the data\n",
    "2. Define the schema of the table for the read CSV to be faster"
   ]
  },
  {
   "cell_type": "code",
   "execution_count": 15,
   "id": "3f6f1fe7-bffc-4878-babb-d66f94699e4b",
   "metadata": {},
   "outputs": [],
   "source": [
    "# 1.\n",
    "data_pth_1 = \"/opt/workspace/data/2019-Nov.csv\"\n",
    "data_pth_2 = \"/opt/workspace/data/2019-Oct.csv\""
   ]
  },
  {
   "cell_type": "code",
   "execution_count": 16,
   "id": "9fe1fd20-812a-4930-9e28-187416e619e5",
   "metadata": {},
   "outputs": [],
   "source": [
    "# 2. To define the schema of the data I must import the StructType, because it acelerates the data reading\n",
    "data_sch = StructType([StructField(\"event_time\", DateType(),   True),\n",
    "                       StructField(\"event_type\", StringType(), True),\n",
    "                       StructField(\"product_id\", LongType(),   True),\n",
    "                       StructField(\"category_id\", LongType (), True),\n",
    "                       StructField(\"category_code\", StringType(), True),\n",
    "                       StructField(\"brand\", StringType(),      True),\n",
    "                       StructField(\"price\", DoubleType(),      True),\n",
    "                       StructField(\"user_id\", LongType(),      True),\n",
    "                       StructField(\"user_session\", StringType(), True)])"
   ]
  },
  {
   "cell_type": "code",
   "execution_count": 28,
   "id": "55fc2fbd-0c3f-4c35-9ff4-3bae168ffcc2",
   "metadata": {},
   "outputs": [],
   "source": [
    "oct_df = spark.read \\\n",
    "    .option(\"header\",True) \\\n",
    "    .csv(data_pth_2)"
   ]
  },
  {
   "cell_type": "code",
   "execution_count": 29,
   "id": "66a61c06-825a-429b-b7c9-fc09be8b2e38",
   "metadata": {},
   "outputs": [
    {
     "name": "stdout",
     "output_type": "stream",
     "text": [
      "+--------------------+----------+----------+-------------------+--------------------+--------+-------+---------+--------------------+\n",
      "|          event_time|event_type|product_id|        category_id|       category_code|   brand|  price|  user_id|        user_session|\n",
      "+--------------------+----------+----------+-------------------+--------------------+--------+-------+---------+--------------------+\n",
      "|2019-10-01 00:00:...|      view|  44600062|2103807459595387724|                null|shiseido|  35.79|541312140|72d76fde-8bb3-4e0...|\n",
      "|2019-10-01 00:00:...|      view|   3900821|2053013552326770905|appliances.enviro...|    aqua|  33.20|554748717|9333dfbd-b87a-470...|\n",
      "|2019-10-01 00:00:...|      view|  17200506|2053013559792632471|furniture.living_...|    null| 543.10|519107250|566511c2-e2e3-422...|\n",
      "|2019-10-01 00:00:...|      view|   1307067|2053013558920217191|  computers.notebook|  lenovo| 251.74|550050854|7c90fc70-0e80-459...|\n",
      "|2019-10-01 00:00:...|      view|   1004237|2053013555631882655|electronics.smart...|   apple|1081.98|535871217|c6bd7419-2748-4c5...|\n",
      "+--------------------+----------+----------+-------------------+--------------------+--------+-------+---------+--------------------+\n",
      "only showing top 5 rows\n",
      "\n"
     ]
    }
   ],
   "source": [
    "oct_df.show(5)"
   ]
  },
  {
   "cell_type": "code",
   "execution_count": 30,
   "id": "afc07539-2148-4d1c-9050-2e8f1c384a21",
   "metadata": {},
   "outputs": [],
   "source": [
    "nov_df = spark.read \\\n",
    "    .option(\"header\",True) \\\n",
    "    .csv(data_pth_1)"
   ]
  },
  {
   "cell_type": "code",
   "execution_count": 31,
   "id": "98ea8c34-ee22-4bf4-aaf0-27b512f599a4",
   "metadata": {},
   "outputs": [
    {
     "name": "stdout",
     "output_type": "stream",
     "text": [
      "+--------------------+----------+----------+-------------------+--------------------+------+------+---------+--------------------+\n",
      "|          event_time|event_type|product_id|        category_id|       category_code| brand| price|  user_id|        user_session|\n",
      "+--------------------+----------+----------+-------------------+--------------------+------+------+---------+--------------------+\n",
      "|2019-11-01 00:00:...|      view|   1003461|2053013555631882655|electronics.smart...|xiaomi|489.07|520088904|4d3b30da-a5e4-49d...|\n",
      "|2019-11-01 00:00:...|      view|   5000088|2053013566100866035|appliances.sewing...|janome|293.65|530496790|8e5f4f83-366c-4f7...|\n",
      "|2019-11-01 00:00:...|      view|  17302664|2053013553853497655|                null| creed| 28.31|561587266|755422e7-9040-477...|\n",
      "|2019-11-01 00:00:...|      view|   3601530|2053013563810775923|appliances.kitche...|    lg|712.87|518085591|3bfb58cd-7892-48c...|\n",
      "|2019-11-01 00:00:...|      view|   1004775|2053013555631882655|electronics.smart...|xiaomi|183.27|558856683|313628f1-68b8-460...|\n",
      "+--------------------+----------+----------+-------------------+--------------------+------+------+---------+--------------------+\n",
      "only showing top 5 rows\n",
      "\n"
     ]
    }
   ],
   "source": [
    "nov_df.show(5)"
   ]
  },
  {
   "cell_type": "code",
   "execution_count": null,
   "id": "d96010c3-6b64-487e-9101-301f9cf59a1c",
   "metadata": {},
   "outputs": [],
   "source": []
  }
 ],
 "metadata": {
  "kernelspec": {
   "display_name": "Python 3 (ipykernel)",
   "language": "python",
   "name": "python3"
  },
  "language_info": {
   "codemirror_mode": {
    "name": "ipython",
    "version": 3
   },
   "file_extension": ".py",
   "mimetype": "text/x-python",
   "name": "python",
   "nbconvert_exporter": "python",
   "pygments_lexer": "ipython3",
   "version": "3.9.10"
  }
 },
 "nbformat": 4,
 "nbformat_minor": 5
}
