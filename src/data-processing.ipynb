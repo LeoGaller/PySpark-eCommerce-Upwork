{
 "cells": [
  {
   "cell_type": "markdown",
   "id": "82294fab-1356-4159-bce3-55da25085fdc",
   "metadata": {},
   "source": [
    "# eCommerce behavior data from multi category store using pyspark"
   ]
  },
  {
   "cell_type": "markdown",
   "id": "add5de1e-e2ba-488b-ab52-66d71db6634a",
   "metadata": {},
   "source": [
    "### Te cell below connects the notebook pyspark to the created cluster"
   ]
  },
  {
   "cell_type": "code",
   "execution_count": 1,
   "id": "3a1555c2-3934-41a5-9001-874a0b090e50",
   "metadata": {},
   "outputs": [
    {
     "name": "stderr",
     "output_type": "stream",
     "text": [
      "WARNING:root:'PYARROW_IGNORE_TIMEZONE' environment variable was not set. It is required to set this environment variable to '1' in both driver and executor sides if you use pyarrow>=2.0.0. pandas-on-Spark will set it for you but it does not work if there is a Spark context already launched.\n"
     ]
    },
    {
     "data": {
      "text/plain": [
       "DataFrame[key: string, value: string]"
      ]
     },
     "execution_count": 1,
     "metadata": {},
     "output_type": "execute_result"
    }
   ],
   "source": [
    "import pyspark.pandas as ps\n",
    "from pyspark.sql import SparkSession\n",
    "from pyspark.sql.types import *\n",
    "from pyspark.sql.functions import to_timestamp, to_date, date_format\n",
    "import seaborn as sns\n",
    "import matplotlib.pyplot as plt\n",
    "\n",
    "spark = SparkSession.\\\n",
    "        builder.\\\n",
    "        appName(\"pyspark-notebook\").\\\n",
    "        master(\"spark://spark-master:7077\").\\\n",
    "        getOrCreate()\n",
    "spark.sql(\"set spark.sql.legacy.timeParserPolicy=LEGACY\")"
   ]
  },
  {
   "cell_type": "markdown",
   "id": "75a9029e-037e-44bc-a497-4e4382bb5df6",
   "metadata": {},
   "source": [
    "### Next steps\n",
    "1. Create a variable that will have the path to the data\n",
    "2. Define the schema of the table for the read CSV to be faster"
   ]
  },
  {
   "cell_type": "code",
   "execution_count": 2,
   "id": "3f6f1fe7-bffc-4878-babb-d66f94699e4b",
   "metadata": {},
   "outputs": [],
   "source": [
    "# 1.\n",
    "data_pth_1 = \"/opt/workspace/data/2019-Nov.csv\"\n",
    "data_pth_2 = \"/opt/workspace/data/2019-Oct.csv\""
   ]
  },
  {
   "cell_type": "code",
   "execution_count": 3,
   "id": "9fe1fd20-812a-4930-9e28-187416e619e5",
   "metadata": {},
   "outputs": [],
   "source": [
    "# 2. To define the schema of the data I must import the StructType, because it acelerates the data reading\n",
    "data_sch = StructType([StructField(\"event_time\", StringType(),   True),\n",
    "                       StructField(\"event_type\", StringType(), True),\n",
    "                       StructField(\"product_id\", LongType(),   True),\n",
    "                       StructField(\"category_id\", LongType (), True),\n",
    "                       StructField(\"category_code\", StringType(), True),\n",
    "                       StructField(\"brand\", StringType(),      True),\n",
    "                       StructField(\"price\", DoubleType(),      True),\n",
    "                       StructField(\"user_id\", LongType(),      True),\n",
    "                       StructField(\"user_session\", StringType(), True)])"
   ]
  },
  {
   "cell_type": "code",
   "execution_count": 4,
   "id": "55fc2fbd-0c3f-4c35-9ff4-3bae168ffcc2",
   "metadata": {},
   "outputs": [],
   "source": [
    "oct_df = spark.read \\\n",
    "    .option(\"header\",True) \\\n",
    "    .csv(data_pth_2, schema=data_sch)"
   ]
  },
  {
   "cell_type": "code",
   "execution_count": 5,
   "id": "27b59829-c648-4290-9e17-c9f8a7765eaa",
   "metadata": {},
   "outputs": [],
   "source": [
    "# Create the date and weekday column\n",
    "oct_df = oct_df.withColumn('event_time_day', to_date(oct_df.event_time, 'yyyy-MM-dd')) \\\n",
    "               .withColumn('event_time_wd' , date_format(oct_df.event_time, 'E')) "
   ]
  },
  {
   "cell_type": "code",
   "execution_count": 6,
   "id": "afc07539-2148-4d1c-9050-2e8f1c384a21",
   "metadata": {},
   "outputs": [],
   "source": [
    "nov_df = spark.read \\\n",
    "    .option(\"header\",True) \\\n",
    "    .csv(data_pth_1, schema=data_sch)"
   ]
  },
  {
   "cell_type": "code",
   "execution_count": 7,
   "id": "6d7c678f-6b4f-40c3-8320-424d1add0826",
   "metadata": {},
   "outputs": [],
   "source": [
    "nov_df = nov_df.withColumn('event_time_day',to_date(nov_df.event_time, 'yyyy-MM-dd')) \\\n",
    "               .withColumn('event_time_wd', date_format(nov_df.event_time, 'E'))"
   ]
  },
  {
   "cell_type": "code",
   "execution_count": 8,
   "id": "eb4be96a-fb91-408d-9c4b-15591f2ec798",
   "metadata": {},
   "outputs": [
    {
     "data": {
      "text/plain": [
       "['event_time',\n",
       " 'event_type',\n",
       " 'product_id',\n",
       " 'category_id',\n",
       " 'category_code',\n",
       " 'brand',\n",
       " 'price',\n",
       " 'user_id',\n",
       " 'user_session',\n",
       " 'event_time_day',\n",
       " 'event_time_wd']"
      ]
     },
     "execution_count": 8,
     "metadata": {},
     "output_type": "execute_result"
    }
   ],
   "source": [
    "# Show columns\n",
    "oct_df.columns"
   ]
  },
  {
   "cell_type": "code",
   "execution_count": 9,
   "id": "8d3a5b49-118c-429d-8822-bb9b835c0595",
   "metadata": {},
   "outputs": [
    {
     "data": {
      "text/plain": [
       "[('event_time', 'string'),\n",
       " ('event_type', 'string'),\n",
       " ('product_id', 'bigint'),\n",
       " ('category_id', 'bigint'),\n",
       " ('category_code', 'string'),\n",
       " ('brand', 'string'),\n",
       " ('price', 'double'),\n",
       " ('user_id', 'bigint'),\n",
       " ('user_session', 'string'),\n",
       " ('event_time_day', 'date'),\n",
       " ('event_time_wd', 'string')]"
      ]
     },
     "execution_count": 9,
     "metadata": {},
     "output_type": "execute_result"
    }
   ],
   "source": [
    "# Show datatypes on each column\n",
    "oct_df.dtypes"
   ]
  },
  {
   "cell_type": "code",
   "execution_count": 10,
   "id": "8ea01aa7-44db-44ac-885f-d358e691b60d",
   "metadata": {},
   "outputs": [
    {
     "data": {
      "text/plain": [
       "DataFrame[event_time: string, event_type: string, product_id: bigint, category_id: bigint, category_code: string, brand: string, price: double, user_id: bigint, user_session: string, event_time_day: date, event_time_wd: string]"
      ]
     },
     "execution_count": 10,
     "metadata": {},
     "output_type": "execute_result"
    }
   ],
   "source": [
    "# Caching the main dataframes\n",
    "oct_df.cache()\n",
    "nov_df.cache()"
   ]
  },
  {
   "cell_type": "markdown",
   "id": "5d650985-21fd-4d61-9efa-003da7dc74fb",
   "metadata": {},
   "source": [
    "### Start to answering the business questions\n",
    "1. On what date do customers shop the most?"
   ]
  },
  {
   "cell_type": "code",
   "execution_count": 11,
   "id": "40909b93-44e1-4619-ba14-334908090dd6",
   "metadata": {},
   "outputs": [],
   "source": [
    "oct_df_x = oct_df.filter(oct_df.event_type == 'purchase') \\\n",
    "    .groupBy(oct_df.event_time_day) \\\n",
    "    .agg({\"event_time\": \"count\"}) \\\n",
    "    .sort('count(event_time)', ascending=False)"
   ]
  },
  {
   "cell_type": "code",
   "execution_count": 12,
   "id": "0c04e9c5-53a6-4328-ba88-bd9860825601",
   "metadata": {},
   "outputs": [
    {
     "data": {
      "text/plain": [
       "DataFrame[event_time_day: date, count(event_time): bigint]"
      ]
     },
     "execution_count": 12,
     "metadata": {},
     "output_type": "execute_result"
    }
   ],
   "source": [
    "gdf_final = oct_df_x.unionAll( nov_df.filter(nov_df.event_type == 'purchase') \\\n",
    "    .groupBy(nov_df.event_time_day) \\\n",
    "    .agg({\"event_time\": \"count\"}) \\\n",
    "    .sort('count(event_time)', ascending=False))\n",
    "gdf_final.cache()"
   ]
  },
  {
   "cell_type": "code",
   "execution_count": 13,
   "id": "6e1e2d3d-496b-42c2-9a35-80f720588811",
   "metadata": {
    "tags": []
   },
   "outputs": [
    {
     "data": {
      "text/plain": [
       "pyspark.pandas.frame.DataFrame"
      ]
     },
     "execution_count": 13,
     "metadata": {},
     "output_type": "execute_result"
    }
   ],
   "source": [
    "ps_df = ps.DataFrame(gdf_final)\n",
    "type(ps_df)"
   ]
  },
  {
   "cell_type": "code",
   "execution_count": 14,
   "id": "1dfa31c1-a289-417b-a769-b3e97bd8be0c",
   "metadata": {},
   "outputs": [],
   "source": [
    "# Sorting\n",
    "ps_df_s = ps_df.sort_values(by='count(event_time)', ascending=False)\n",
    "ps_df_s_i = ps_df_s.reset_index(drop=True)"
   ]
  },
  {
   "cell_type": "code",
   "execution_count": 15,
   "id": "bbfb16f7-f985-4a20-9fed-d1ee38cfb4ca",
   "metadata": {},
   "outputs": [
    {
     "data": {
      "image/png": "[encoded data removed]",
      "text/plain": [
       "<Figure size 432x288 with 1 Axes>"
      ]
     },
     "metadata": {
      "needs_background": "light"
     },
     "output_type": "display_data"
    }
   ],
   "source": [
    "ax = sns.barplot(x='event_time_day', \n",
    "                 y='count(event_time)', \n",
    "                 data = ps_df_s_i.query('__index_level_0__ <= 4').to_pandas())\n",
    "ax.bar_label(ax.containers[0])\n",
    "plt.show()"
   ]
  },
  {
   "cell_type": "markdown",
   "id": "6bd4af83-f912-4a6f-b352-4436dbe85682",
   "metadata": {},
   "source": [
    "2. Count sales of each category"
   ]
  },
  {
   "cell_type": "code",
   "execution_count": 54,
   "id": "345590bd-f002-4f35-95bc-3883a331f83a",
   "metadata": {},
   "outputs": [
    {
     "data": {
      "text/plain": [
       "DataFrame[event_time: string, event_type: string, product_id: bigint, category_id: bigint, category_code: string, brand: string, price: double, user_id: bigint, user_session: string, event_time_day: date, event_time_wd: string]"
      ]
     },
     "execution_count": 54,
     "metadata": {},
     "output_type": "execute_result"
    }
   ],
   "source": [
    "all_data_df = oct_df.unionAll(nov_df)\n",
    "all_data_df.cache()"
   ]
  },
  {
   "cell_type": "code",
   "execution_count": 60,
   "id": "90ae90a6-365d-481b-b0ee-4636524bd4e4",
   "metadata": {},
   "outputs": [],
   "source": [
    "q2_df = all_data_df.filter(all_data_df.event_type == 'purchase') \\\n",
    "           .groupBy('category_code') \\\n",
    "           .agg({'product_id':'count'})"
   ]
  },
  {
   "cell_type": "code",
   "execution_count": 62,
   "id": "9ff08a51-0f36-4d2f-874d-7a850f061e59",
   "metadata": {},
   "outputs": [],
   "source": [
    "q2_df_pandas = ps.DataFrame(q2_df.sort('count(product_id)', ascending=False))"
   ]
  },
  {
   "cell_type": "code",
   "execution_count": 63,
   "id": "bf27230b-bd2d-4b26-aa25-1120e4064724",
   "metadata": {},
   "outputs": [
    {
     "data": {
      "application/vnd.plotly.v1+json": {
       "config": {
        "plotlyServerURL": "https://plot.ly"
       },
       "data": [
        {
         "alignmentgroup": "True",
         "hovertemplate": "category_code=%{x}<br>count(product_id)=%{y}<extra></extra>",
         "legendgroup": "",
         "marker": {
          "color": "#636efa",
          "pattern": {
           "shape": ""
          }
         },
         "name": "",
         "offsetgroup": "",
         "orientation": "v",
         "showlegend": false,
         "textposition": "auto",
         "type": "bar",
         "x": [
          "electronics.smartphone",
          null,
          "electronics.audio.headphone",
          "electronics.video.tv",
          "electronics.clocks",
          "appliances.kitchen.washer",
          "computers.notebook",
          "appliances.environment.vacuum",
          "appliances.kitchen.refrigerators",
          "apparel.shoes",
          "electronics.tablet",
          "appliances.kitchen.microwave",
          "auto.accessories.player",
          "appliances.iron",
          "electronics.telephone",
          "appliances.kitchen.blender",
          "computers.desktop",
          "appliances.kitchen.kettle",
          "electronics.audio.subwoofer",
          "appliances.environment.water_heater",
          "appliances.kitchen.oven",
          "appliances.environment.air_heater",
          "construction.tools.drill",
          "auto.accessories.alarm",
          "appliances.kitchen.meat_grinder",
          "computers.peripherals.printer",
          "furniture.bedroom.bed",
          "apparel.shoes.keds",
          "kids.carriage",
          "appliances.sewing_machine",
          "auto.accessories.videoregister",
          "furniture.living_room.cabinet",
          "construction.tools.saw",
          "accessories.bag",
          "appliances.kitchen.mixer",
          "appliances.personal.scales",
          "construction.tools.generator",
          "furniture.kitchen.chair",
          "computers.peripherals.monitor",
          "furniture.living_room.sofa",
          "computers.components.hdd",
          "kids.toys",
          "appliances.kitchen.hood",
          "computers.peripherals.mouse",
          "appliances.kitchen.hob",
          "appliances.personal.hair_cutter",
          "construction.tools.welding",
          "electronics.audio.acoustic",
          "furniture.kitchen.table",
          "computers.components.videocards",
          "appliances.kitchen.grill",
          "appliances.kitchen.dishwasher",
          "kids.fmcg.diapers",
          "appliances.ironing_board",
          "computers.components.memory",
          "sport.bicycle",
          "apparel.costume",
          "computers.peripherals.keyboard",
          "auto.accessories.compressor",
          "appliances.kitchen.juicer",
          "appliances.kitchen.coffee_machine",
          "furniture.living_room.chair",
          "appliances.environment.air_conditioner",
          "electronics.audio.music_tools.piano",
          "computers.components.cooler",
          "kids.skates",
          "sport.trainer",
          "auto.accessories.radar",
          "appliances.kitchen.toster",
          "electronics.audio.microphone",
          "kids.swing",
          "kids.dolls",
          "electronics.camera.video",
          "computers.ebooks",
          "computers.components.motherboard",
          "computers.components.cpu",
          "construction.components.faucet",
          "appliances.personal.massager",
          "accessories.wallet",
          "medicine.tools.tonometer",
          "construction.tools.pump",
          "computers.components.power_supply",
          "furniture.bathroom.toilet",
          "electronics.camera.photo",
          "furniture.bedroom.blanket",
          "furniture.bedroom.pillow",
          "stationery.cartrige",
          "apparel.jeans",
          "appliances.kitchen.steam_cooker",
          "appliances.kitchen.coffee_grinder",
          "construction.tools.painting",
          "construction.tools.light",
          "furniture.bathroom.bath",
          "electronics.video.projector",
          "apparel.underwear",
          "apparel.shirt",
          "apparel.tshirt",
          "sport.snowboard",
          "apparel.dress",
          "auto.accessories.parktronic",
          "apparel.shoes.moccasins",
          "sport.ski",
          "furniture.universal.light",
          "apparel.jumper",
          "country_yard.lawn_mower",
          "computers.peripherals.camera",
          "apparel.shoes.sandals",
          "apparel.trousers",
          "apparel.belt",
          "appliances.environment.fan",
          "sport.tennis",
          "accessories.umbrella",
          "country_yard.cultivator",
          "auto.accessories.winch",
          "apparel.sock",
          "apparel.shoes.ballet_shoes",
          "apparel.scarf",
          "auto.accessories.anti_freeze",
          "apparel.shoes.slipons",
          "apparel.glove",
          "apparel.skirt",
          "apparel.shoes.step_ins",
          "construction.tools.soldering",
          "country_yard.furniture.hammok",
          "apparel.shorts",
          "apparel.jacket",
          "construction.tools.screw",
          "appliances.kitchen.fryer"
         ],
         "xaxis": "x",
         "y": [
          720665,
          407643,
          71337,
          51839,
          41143,
          35920,
          34023,
          30571,
          24260,
          14395,
          11741,
          8855,
          8440,
          8303,
          8076,
          7086,
          7013,
          6542,
          6478,
          6156,
          6069,
          6066,
          5988,
          5699,
          5392,
          5194,
          5123,
          4981,
          4955,
          4848,
          4688,
          4522,
          3630,
          3015,
          2984,
          2909,
          2898,
          2896,
          2648,
          2646,
          2547,
          2425,
          2420,
          2372,
          2352,
          2209,
          2200,
          2041,
          2026,
          1965,
          1809,
          1659,
          1587,
          1554,
          1402,
          1374,
          1368,
          1307,
          1291,
          1287,
          1268,
          1219,
          1197,
          1119,
          1091,
          1088,
          1060,
          1038,
          984,
          919,
          812,
          781,
          743,
          728,
          711,
          711,
          685,
          685,
          676,
          654,
          648,
          541,
          395,
          385,
          376,
          360,
          325,
          309,
          304,
          273,
          242,
          201,
          193,
          181,
          181,
          160,
          151,
          144,
          127,
          119,
          102,
          90,
          87,
          84,
          82,
          79,
          74,
          72,
          62,
          59,
          57,
          50,
          46,
          46,
          40,
          33,
          18,
          18,
          17,
          17,
          14,
          7,
          7,
          4,
          4,
          1,
          1,
          1
         ],
         "yaxis": "y"
        }
       ],
       "layout": {
        "autosize": true,
        "barmode": "relative",
        "legend": {
         "tracegroupgap": 0
        },
        "margin": {
         "t": 60
        },
        "template": {
         "data": {
          "bar": [
           {
            "error_x": {
             "color": "#2a3f5f"
            },
            "error_y": {
             "color": "#2a3f5f"
            },
            "marker": {
             "line": {
              "color": "#E5ECF6",
              "width": 0.5
             },
             "pattern": {
              "fillmode": "overlay",
              "size": 10,
              "solidity": 0.2
             }
            },
            "type": "bar"
           }
          ],
          "barpolar": [
           {
            "marker": {
             "line": {
              "color": "#E5ECF6",
              "width": 0.5
             },
             "pattern": {
              "fillmode": "overlay",
              "size": 10,
              "solidity": 0.2
             }
            },
            "type": "barpolar"
           }
          ],
          "carpet": [
           {
            "aaxis": {
             "endlinecolor": "#2a3f5f",
             "gridcolor": "white",
             "linecolor": "white",
             "minorgridcolor": "white",
             "startlinecolor": "#2a3f5f"
            },
            "baxis": {
             "endlinecolor": "#2a3f5f",
             "gridcolor": "white",
             "linecolor": "white",
             "minorgridcolor": "white",
             "startlinecolor": "#2a3f5f"
            },
            "type": "carpet"
           }
          ],
          "choropleth": [
           {
            "colorbar": {
             "outlinewidth": 0,
             "ticks": ""
            },
            "type": "choropleth"
           }
          ],
          "contour": [
           {
            "colorbar": {
             "outlinewidth": 0,
             "ticks": ""
            },
            "colorscale": [
             [
              0,
              "#0d0887"
             ],
             [
              0.1111111111111111,
              "#46039f"
             ],
             [
              0.2222222222222222,
              "#7201a8"
             ],
             [
              0.3333333333333333,
              "#9c179e"
             ],
             [
              0.4444444444444444,
              "#bd3786"
             ],
             [
              0.5555555555555556,
              "#d8576b"
             ],
             [
              0.6666666666666666,
              "#ed7953"
             ],
             [
              0.7777777777777778,
              "#fb9f3a"
             ],
             [
              0.8888888888888888,
              "#fdca26"
             ],
             [
              1,
              "#f0f921"
             ]
            ],
            "type": "contour"
           }
          ],
          "contourcarpet": [
           {
            "colorbar": {
             "outlinewidth": 0,
             "ticks": ""
            },
            "type": "contourcarpet"
           }
          ],
          "heatmap": [
           {
            "colorbar": {
             "outlinewidth": 0,
             "ticks": ""
            },
            "colorscale": [
             [
              0,
              "#0d0887"
             ],
             [
              0.1111111111111111,
              "#46039f"
             ],
             [
              0.2222222222222222,
              "#7201a8"
             ],
             [
              0.3333333333333333,
              "#9c179e"
             ],
             [
              0.4444444444444444,
              "#bd3786"
             ],
             [
              0.5555555555555556,
              "#d8576b"
             ],
             [
              0.6666666666666666,
              "#ed7953"
             ],
             [
              0.7777777777777778,
              "#fb9f3a"
             ],
             [
              0.8888888888888888,
              "#fdca26"
             ],
             [
              1,
              "#f0f921"
             ]
            ],
            "type": "heatmap"
           }
          ],
          "heatmapgl": [
           {
            "colorbar": {
             "outlinewidth": 0,
             "ticks": ""
            },
            "colorscale": [
             [
              0,
              "#0d0887"
             ],
             [
              0.1111111111111111,
              "#46039f"
             ],
             [
              0.2222222222222222,
              "#7201a8"
             ],
             [
              0.3333333333333333,
              "#9c179e"
             ],
             [
              0.4444444444444444,
              "#bd3786"
             ],
             [
              0.5555555555555556,
              "#d8576b"
             ],
             [
              0.6666666666666666,
              "#ed7953"
             ],
             [
              0.7777777777777778,
              "#fb9f3a"
             ],
             [
              0.8888888888888888,
              "#fdca26"
             ],
             [
              1,
              "#f0f921"
             ]
            ],
            "type": "heatmapgl"
           }
          ],
          "histogram": [
           {
            "marker": {
             "pattern": {
              "fillmode": "overlay",
              "size": 10,
              "solidity": 0.2
             }
            },
            "type": "histogram"
           }
          ],
          "histogram2d": [
           {
            "colorbar": {
             "outlinewidth": 0,
             "ticks": ""
            },
            "colorscale": [
             [
              0,
              "#0d0887"
             ],
             [
              0.1111111111111111,
              "#46039f"
             ],
             [
              0.2222222222222222,
              "#7201a8"
             ],
             [
              0.3333333333333333,
              "#9c179e"
             ],
             [
              0.4444444444444444,
              "#bd3786"
             ],
             [
              0.5555555555555556,
              "#d8576b"
             ],
             [
              0.6666666666666666,
              "#ed7953"
             ],
             [
              0.7777777777777778,
              "#fb9f3a"
             ],
             [
              0.8888888888888888,
              "#fdca26"
             ],
             [
              1,
              "#f0f921"
             ]
            ],
            "type": "histogram2d"
           }
          ],
          "histogram2dcontour": [
           {
            "colorbar": {
             "outlinewidth": 0,
             "ticks": ""
            },
            "colorscale": [
             [
              0,
              "#0d0887"
             ],
             [
              0.1111111111111111,
              "#46039f"
             ],
             [
              0.2222222222222222,
              "#7201a8"
             ],
             [
              0.3333333333333333,
              "#9c179e"
             ],
             [
              0.4444444444444444,
              "#bd3786"
             ],
             [
              0.5555555555555556,
              "#d8576b"
             ],
             [
              0.6666666666666666,
              "#ed7953"
             ],
             [
              0.7777777777777778,
              "#fb9f3a"
             ],
             [
              0.8888888888888888,
              "#fdca26"
             ],
             [
              1,
              "#f0f921"
             ]
            ],
            "type": "histogram2dcontour"
           }
          ],
          "mesh3d": [
           {
            "colorbar": {
             "outlinewidth": 0,
             "ticks": ""
            },
            "type": "mesh3d"
           }
          ],
          "parcoords": [
           {
            "line": {
             "colorbar": {
              "outlinewidth": 0,
              "ticks": ""
             }
            },
            "type": "parcoords"
           }
          ],
          "pie": [
           {
            "automargin": true,
            "type": "pie"
           }
          ],
          "scatter": [
           {
            "fillpattern": {
             "fillmode": "overlay",
             "size": 10,
             "solidity": 0.2
            },
            "type": "scatter"
           }
          ],
          "scatter3d": [
           {
            "line": {
             "colorbar": {
              "outlinewidth": 0,
              "ticks": ""
             }
            },
            "marker": {
             "colorbar": {
              "outlinewidth": 0,
              "ticks": ""
             }
            },
            "type": "scatter3d"
           }
          ],
          "scattercarpet": [
           {
            "marker": {
             "colorbar": {
              "outlinewidth": 0,
              "ticks": ""
             }
            },
            "type": "scattercarpet"
           }
          ],
          "scattergeo": [
           {
            "marker": {
             "colorbar": {
              "outlinewidth": 0,
              "ticks": ""
             }
            },
            "type": "scattergeo"
           }
          ],
          "scattergl": [
           {
            "marker": {
             "colorbar": {
              "outlinewidth": 0,
              "ticks": ""
             }
            },
            "type": "scattergl"
           }
          ],
          "scattermapbox": [
           {
            "marker": {
             "colorbar": {
              "outlinewidth": 0,
              "ticks": ""
             }
            },
            "type": "scattermapbox"
           }
          ],
          "scatterpolar": [
           {
            "marker": {
             "colorbar": {
              "outlinewidth": 0,
              "ticks": ""
             }
            },
            "type": "scatterpolar"
           }
          ],
          "scatterpolargl": [
           {
            "marker": {
             "colorbar": {
              "outlinewidth": 0,
              "ticks": ""
             }
            },
            "type": "scatterpolargl"
           }
          ],
          "scatterternary": [
           {
            "marker": {
             "colorbar": {
              "outlinewidth": 0,
              "ticks": ""
             }
            },
            "type": "scatterternary"
           }
          ],
          "surface": [
           {
            "colorbar": {
             "outlinewidth": 0,
             "ticks": ""
            },
            "colorscale": [
             [
              0,
              "#0d0887"
             ],
             [
              0.1111111111111111,
              "#46039f"
             ],
             [
              0.2222222222222222,
              "#7201a8"
             ],
             [
              0.3333333333333333,
              "#9c179e"
             ],
             [
              0.4444444444444444,
              "#bd3786"
             ],
             [
              0.5555555555555556,
              "#d8576b"
             ],
             [
              0.6666666666666666,
              "#ed7953"
             ],
             [
              0.7777777777777778,
              "#fb9f3a"
             ],
             [
              0.8888888888888888,
              "#fdca26"
             ],
             [
              1,
              "#f0f921"
             ]
            ],
            "type": "surface"
           }
          ],
          "table": [
           {
            "cells": {
             "fill": {
              "color": "#EBF0F8"
             },
             "line": {
              "color": "white"
             }
            },
            "header": {
             "fill": {
              "color": "#C8D4E3"
             },
             "line": {
              "color": "white"
             }
            },
            "type": "table"
           }
          ]
         },
         "layout": {
          "annotationdefaults": {
           "arrowcolor": "#2a3f5f",
           "arrowhead": 0,
           "arrowwidth": 1
          },
          "autotypenumbers": "strict",
          "coloraxis": {
           "colorbar": {
            "outlinewidth": 0,
            "ticks": ""
           }
          },
          "colorscale": {
           "diverging": [
            [
             0,
             "#8e0152"
            ],
            [
             0.1,
             "#c51b7d"
            ],
            [
             0.2,
             "#de77ae"
            ],
            [
             0.3,
             "#f1b6da"
            ],
            [
             0.4,
             "#fde0ef"
            ],
            [
             0.5,
             "#f7f7f7"
            ],
            [
             0.6,
             "#e6f5d0"
            ],
            [
             0.7,
             "#b8e186"
            ],
            [
             0.8,
             "#7fbc41"
            ],
            [
             0.9,
             "#4d9221"
            ],
            [
             1,
             "#276419"
            ]
           ],
           "sequential": [
            [
             0,
             "#0d0887"
            ],
            [
             0.1111111111111111,
             "#46039f"
            ],
            [
             0.2222222222222222,
             "#7201a8"
            ],
            [
             0.3333333333333333,
             "#9c179e"
            ],
            [
             0.4444444444444444,
             "#bd3786"
            ],
            [
             0.5555555555555556,
             "#d8576b"
            ],
            [
             0.6666666666666666,
             "#ed7953"
            ],
            [
             0.7777777777777778,
             "#fb9f3a"
            ],
            [
             0.8888888888888888,
             "#fdca26"
            ],
            [
             1,
             "#f0f921"
            ]
           ],
           "sequentialminus": [
            [
             0,
             "#0d0887"
            ],
            [
             0.1111111111111111,
             "#46039f"
            ],
            [
             0.2222222222222222,
             "#7201a8"
            ],
            [
             0.3333333333333333,
             "#9c179e"
            ],
            [
             0.4444444444444444,
             "#bd3786"
            ],
            [
             0.5555555555555556,
             "#d8576b"
            ],
            [
             0.6666666666666666,
             "#ed7953"
            ],
            [
             0.7777777777777778,
             "#fb9f3a"
            ],
            [
             0.8888888888888888,
             "#fdca26"
            ],
            [
             1,
             "#f0f921"
            ]
           ]
          },
          "colorway": [
           "#636efa",
           "#EF553B",
           "#00cc96",
           "#ab63fa",
           "#FFA15A",
           "#19d3f3",
           "#FF6692",
           "#B6E880",
           "#FF97FF",
           "#FECB52"
          ],
          "font": {
           "color": "#2a3f5f"
          },
          "geo": {
           "bgcolor": "white",
           "lakecolor": "white",
           "landcolor": "#E5ECF6",
           "showlakes": true,
           "showland": true,
           "subunitcolor": "white"
          },
          "hoverlabel": {
           "align": "left"
          },
          "hovermode": "closest",
          "mapbox": {
           "style": "light"
          },
          "paper_bgcolor": "white",
          "plot_bgcolor": "#E5ECF6",
          "polar": {
           "angularaxis": {
            "gridcolor": "white",
            "linecolor": "white",
            "ticks": ""
           },
           "bgcolor": "#E5ECF6",
           "radialaxis": {
            "gridcolor": "white",
            "linecolor": "white",
            "ticks": ""
           }
          },
          "scene": {
           "xaxis": {
            "backgroundcolor": "#E5ECF6",
            "gridcolor": "white",
            "gridwidth": 2,
            "linecolor": "white",
            "showbackground": true,
            "ticks": "",
            "zerolinecolor": "white"
           },
           "yaxis": {
            "backgroundcolor": "#E5ECF6",
            "gridcolor": "white",
            "gridwidth": 2,
            "linecolor": "white",
            "showbackground": true,
            "ticks": "",
            "zerolinecolor": "white"
           },
           "zaxis": {
            "backgroundcolor": "#E5ECF6",
            "gridcolor": "white",
            "gridwidth": 2,
            "linecolor": "white",
            "showbackground": true,
            "ticks": "",
            "zerolinecolor": "white"
           }
          },
          "shapedefaults": {
           "line": {
            "color": "#2a3f5f"
           }
          },
          "ternary": {
           "aaxis": {
            "gridcolor": "white",
            "linecolor": "white",
            "ticks": ""
           },
           "baxis": {
            "gridcolor": "white",
            "linecolor": "white",
            "ticks": ""
           },
           "bgcolor": "#E5ECF6",
           "caxis": {
            "gridcolor": "white",
            "linecolor": "white",
            "ticks": ""
           }
          },
          "title": {
           "x": 0.05
          },
          "xaxis": {
           "automargin": true,
           "gridcolor": "white",
           "linecolor": "white",
           "ticks": "",
           "title": {
            "standoff": 15
           },
           "zerolinecolor": "white",
           "zerolinewidth": 2
          },
          "yaxis": {
           "automargin": true,
           "gridcolor": "white",
           "linecolor": "white",
           "ticks": "",
           "title": {
            "standoff": 15
           },
           "zerolinecolor": "white",
           "zerolinewidth": 2
          }
         }
        },
        "xaxis": {
         "anchor": "y",
         "autorange": true,
         "domain": [
          0,
          1
         ],
         "range": [
          -0.5,
          126.5
         ],
         "title": {
          "text": "category_code"
         },
         "type": "category"
        },
        "yaxis": {
         "anchor": "x",
         "autorange": true,
         "domain": [
          0,
          1
         ],
         "range": [
          0,
          758594.7368421053
         ],
         "title": {
          "text": "count(product_id)"
         },
         "type": "linear"
        }
       }
      },
      "image/png": "[encoded data removed]",
      "text/html": [
       "<div>                            <div id=\"f0581ae4-6b99-4f44-87d2-a2adfaeb787f\" class=\"plotly-graph-div\" style=\"height:525px; width:100%;\"></div>            <script type=\"text/javascript\">                require([\"plotly\"], function(Plotly) {                    window.PLOTLYENV=window.PLOTLYENV || {};                                    if (document.getElementById(\"f0581ae4-6b99-4f44-87d2-a2adfaeb787f\")) {                    Plotly.newPlot(                        \"f0581ae4-6b99-4f44-87d2-a2adfaeb787f\",                        [{\"alignmentgroup\":\"True\",\"hovertemplate\":\"category_code=%{x}<br>count(product_id)=%{y}<extra></extra>\",\"legendgroup\":\"\",\"marker\":{\"color\":\"#636efa\",\"pattern\":{\"shape\":\"\"}},\"name\":\"\",\"offsetgroup\":\"\",\"orientation\":\"v\",\"showlegend\":false,\"textposition\":\"auto\",\"x\":[\"electronics.smartphone\",null,\"electronics.audio.headphone\",\"electronics.video.tv\",\"electronics.clocks\",\"appliances.kitchen.washer\",\"computers.notebook\",\"appliances.environment.vacuum\",\"appliances.kitchen.refrigerators\",\"apparel.shoes\",\"electronics.tablet\",\"appliances.kitchen.microwave\",\"auto.accessories.player\",\"appliances.iron\",\"electronics.telephone\",\"appliances.kitchen.blender\",\"computers.desktop\",\"appliances.kitchen.kettle\",\"electronics.audio.subwoofer\",\"appliances.environment.water_heater\",\"appliances.kitchen.oven\",\"appliances.environment.air_heater\",\"construction.tools.drill\",\"auto.accessories.alarm\",\"appliances.kitchen.meat_grinder\",\"computers.peripherals.printer\",\"furniture.bedroom.bed\",\"apparel.shoes.keds\",\"kids.carriage\",\"appliances.sewing_machine\",\"auto.accessories.videoregister\",\"furniture.living_room.cabinet\",\"construction.tools.saw\",\"accessories.bag\",\"appliances.kitchen.mixer\",\"appliances.personal.scales\",\"construction.tools.generator\",\"furniture.kitchen.chair\",\"computers.peripherals.monitor\",\"furniture.living_room.sofa\",\"computers.components.hdd\",\"kids.toys\",\"appliances.kitchen.hood\",\"computers.peripherals.mouse\",\"appliances.kitchen.hob\",\"appliances.personal.hair_cutter\",\"construction.tools.welding\",\"electronics.audio.acoustic\",\"furniture.kitchen.table\",\"computers.components.videocards\",\"appliances.kitchen.grill\",\"appliances.kitchen.dishwasher\",\"kids.fmcg.diapers\",\"appliances.ironing_board\",\"computers.components.memory\",\"sport.bicycle\",\"apparel.costume\",\"computers.peripherals.keyboard\",\"auto.accessories.compressor\",\"appliances.kitchen.juicer\",\"appliances.kitchen.coffee_machine\",\"furniture.living_room.chair\",\"appliances.environment.air_conditioner\",\"electronics.audio.music_tools.piano\",\"computers.components.cooler\",\"kids.skates\",\"sport.trainer\",\"auto.accessories.radar\",\"appliances.kitchen.toster\",\"electronics.audio.microphone\",\"kids.swing\",\"kids.dolls\",\"electronics.camera.video\",\"computers.ebooks\",\"computers.components.motherboard\",\"computers.components.cpu\",\"construction.components.faucet\",\"appliances.personal.massager\",\"accessories.wallet\",\"medicine.tools.tonometer\",\"construction.tools.pump\",\"computers.components.power_supply\",\"furniture.bathroom.toilet\",\"electronics.camera.photo\",\"furniture.bedroom.blanket\",\"furniture.bedroom.pillow\",\"stationery.cartrige\",\"apparel.jeans\",\"appliances.kitchen.steam_cooker\",\"appliances.kitchen.coffee_grinder\",\"construction.tools.painting\",\"construction.tools.light\",\"furniture.bathroom.bath\",\"electronics.video.projector\",\"apparel.underwear\",\"apparel.shirt\",\"apparel.tshirt\",\"sport.snowboard\",\"apparel.dress\",\"auto.accessories.parktronic\",\"apparel.shoes.moccasins\",\"sport.ski\",\"furniture.universal.light\",\"apparel.jumper\",\"country_yard.lawn_mower\",\"computers.peripherals.camera\",\"apparel.shoes.sandals\",\"apparel.trousers\",\"apparel.belt\",\"appliances.environment.fan\",\"sport.tennis\",\"accessories.umbrella\",\"country_yard.cultivator\",\"auto.accessories.winch\",\"apparel.sock\",\"apparel.shoes.ballet_shoes\",\"apparel.scarf\",\"auto.accessories.anti_freeze\",\"apparel.shoes.slipons\",\"apparel.glove\",\"apparel.skirt\",\"apparel.shoes.step_ins\",\"construction.tools.soldering\",\"country_yard.furniture.hammok\",\"apparel.shorts\",\"apparel.jacket\",\"construction.tools.screw\",\"appliances.kitchen.fryer\"],\"xaxis\":\"x\",\"y\":[720665,407643,71337,51839,41143,35920,34023,30571,24260,14395,11741,8855,8440,8303,8076,7086,7013,6542,6478,6156,6069,6066,5988,5699,5392,5194,5123,4981,4955,4848,4688,4522,3630,3015,2984,2909,2898,2896,2648,2646,2547,2425,2420,2372,2352,2209,2200,2041,2026,1965,1809,1659,1587,1554,1402,1374,1368,1307,1291,1287,1268,1219,1197,1119,1091,1088,1060,1038,984,919,812,781,743,728,711,711,685,685,676,654,648,541,395,385,376,360,325,309,304,273,242,201,193,181,181,160,151,144,127,119,102,90,87,84,82,79,74,72,62,59,57,50,46,46,40,33,18,18,17,17,14,7,7,4,4,1,1,1],\"yaxis\":\"y\",\"type\":\"bar\"}],                        {\"template\":{\"data\":{\"histogram2dcontour\":[{\"type\":\"histogram2dcontour\",\"colorbar\":{\"outlinewidth\":0,\"ticks\":\"\"},\"colorscale\":[[0.0,\"#0d0887\"],[0.1111111111111111,\"#46039f\"],[0.2222222222222222,\"#7201a8\"],[0.3333333333333333,\"#9c179e\"],[0.4444444444444444,\"#bd3786\"],[0.5555555555555556,\"#d8576b\"],[0.6666666666666666,\"#ed7953\"],[0.7777777777777778,\"#fb9f3a\"],[0.8888888888888888,\"#fdca26\"],[1.0,\"#f0f921\"]]}],\"choropleth\":[{\"type\":\"choropleth\",\"colorbar\":{\"outlinewidth\":0,\"ticks\":\"\"}}],\"histogram2d\":[{\"type\":\"histogram2d\",\"colorbar\":{\"outlinewidth\":0,\"ticks\":\"\"},\"colorscale\":[[0.0,\"#0d0887\"],[0.1111111111111111,\"#46039f\"],[0.2222222222222222,\"#7201a8\"],[0.3333333333333333,\"#9c179e\"],[0.4444444444444444,\"#bd3786\"],[0.5555555555555556,\"#d8576b\"],[0.6666666666666666,\"#ed7953\"],[0.7777777777777778,\"#fb9f3a\"],[0.8888888888888888,\"#fdca26\"],[1.0,\"#f0f921\"]]}],\"heatmap\":[{\"type\":\"heatmap\",\"colorbar\":{\"outlinewidth\":0,\"ticks\":\"\"},\"colorscale\":[[0.0,\"#0d0887\"],[0.1111111111111111,\"#46039f\"],[0.2222222222222222,\"#7201a8\"],[0.3333333333333333,\"#9c179e\"],[0.4444444444444444,\"#bd3786\"],[0.5555555555555556,\"#d8576b\"],[0.6666666666666666,\"#ed7953\"],[0.7777777777777778,\"#fb9f3a\"],[0.8888888888888888,\"#fdca26\"],[1.0,\"#f0f921\"]]}],\"heatmapgl\":[{\"type\":\"heatmapgl\",\"colorbar\":{\"outlinewidth\":0,\"ticks\":\"\"},\"colorscale\":[[0.0,\"#0d0887\"],[0.1111111111111111,\"#46039f\"],[0.2222222222222222,\"#7201a8\"],[0.3333333333333333,\"#9c179e\"],[0.4444444444444444,\"#bd3786\"],[0.5555555555555556,\"#d8576b\"],[0.6666666666666666,\"#ed7953\"],[0.7777777777777778,\"#fb9f3a\"],[0.8888888888888888,\"#fdca26\"],[1.0,\"#f0f921\"]]}],\"contourcarpet\":[{\"type\":\"contourcarpet\",\"colorbar\":{\"outlinewidth\":0,\"ticks\":\"\"}}],\"contour\":[{\"type\":\"contour\",\"colorbar\":{\"outlinewidth\":0,\"ticks\":\"\"},\"colorscale\":[[0.0,\"#0d0887\"],[0.1111111111111111,\"#46039f\"],[0.2222222222222222,\"#7201a8\"],[0.3333333333333333,\"#9c179e\"],[0.4444444444444444,\"#bd3786\"],[0.5555555555555556,\"#d8576b\"],[0.6666666666666666,\"#ed7953\"],[0.7777777777777778,\"#fb9f3a\"],[0.8888888888888888,\"#fdca26\"],[1.0,\"#f0f921\"]]}],\"surface\":[{\"type\":\"surface\",\"colorbar\":{\"outlinewidth\":0,\"ticks\":\"\"},\"colorscale\":[[0.0,\"#0d0887\"],[0.1111111111111111,\"#46039f\"],[0.2222222222222222,\"#7201a8\"],[0.3333333333333333,\"#9c179e\"],[0.4444444444444444,\"#bd3786\"],[0.5555555555555556,\"#d8576b\"],[0.6666666666666666,\"#ed7953\"],[0.7777777777777778,\"#fb9f3a\"],[0.8888888888888888,\"#fdca26\"],[1.0,\"#f0f921\"]]}],\"mesh3d\":[{\"type\":\"mesh3d\",\"colorbar\":{\"outlinewidth\":0,\"ticks\":\"\"}}],\"scatter\":[{\"fillpattern\":{\"fillmode\":\"overlay\",\"size\":10,\"solidity\":0.2},\"type\":\"scatter\"}],\"parcoords\":[{\"type\":\"parcoords\",\"line\":{\"colorbar\":{\"outlinewidth\":0,\"ticks\":\"\"}}}],\"scatterpolargl\":[{\"type\":\"scatterpolargl\",\"marker\":{\"colorbar\":{\"outlinewidth\":0,\"ticks\":\"\"}}}],\"bar\":[{\"error_x\":{\"color\":\"#2a3f5f\"},\"error_y\":{\"color\":\"#2a3f5f\"},\"marker\":{\"line\":{\"color\":\"#E5ECF6\",\"width\":0.5},\"pattern\":{\"fillmode\":\"overlay\",\"size\":10,\"solidity\":0.2}},\"type\":\"bar\"}],\"scattergeo\":[{\"type\":\"scattergeo\",\"marker\":{\"colorbar\":{\"outlinewidth\":0,\"ticks\":\"\"}}}],\"scatterpolar\":[{\"type\":\"scatterpolar\",\"marker\":{\"colorbar\":{\"outlinewidth\":0,\"ticks\":\"\"}}}],\"histogram\":[{\"marker\":{\"pattern\":{\"fillmode\":\"overlay\",\"size\":10,\"solidity\":0.2}},\"type\":\"histogram\"}],\"scattergl\":[{\"type\":\"scattergl\",\"marker\":{\"colorbar\":{\"outlinewidth\":0,\"ticks\":\"\"}}}],\"scatter3d\":[{\"type\":\"scatter3d\",\"line\":{\"colorbar\":{\"outlinewidth\":0,\"ticks\":\"\"}},\"marker\":{\"colorbar\":{\"outlinewidth\":0,\"ticks\":\"\"}}}],\"scattermapbox\":[{\"type\":\"scattermapbox\",\"marker\":{\"colorbar\":{\"outlinewidth\":0,\"ticks\":\"\"}}}],\"scatterternary\":[{\"type\":\"scatterternary\",\"marker\":{\"colorbar\":{\"outlinewidth\":0,\"ticks\":\"\"}}}],\"scattercarpet\":[{\"type\":\"scattercarpet\",\"marker\":{\"colorbar\":{\"outlinewidth\":0,\"ticks\":\"\"}}}],\"carpet\":[{\"aaxis\":{\"endlinecolor\":\"#2a3f5f\",\"gridcolor\":\"white\",\"linecolor\":\"white\",\"minorgridcolor\":\"white\",\"startlinecolor\":\"#2a3f5f\"},\"baxis\":{\"endlinecolor\":\"#2a3f5f\",\"gridcolor\":\"white\",\"linecolor\":\"white\",\"minorgridcolor\":\"white\",\"startlinecolor\":\"#2a3f5f\"},\"type\":\"carpet\"}],\"table\":[{\"cells\":{\"fill\":{\"color\":\"#EBF0F8\"},\"line\":{\"color\":\"white\"}},\"header\":{\"fill\":{\"color\":\"#C8D4E3\"},\"line\":{\"color\":\"white\"}},\"type\":\"table\"}],\"barpolar\":[{\"marker\":{\"line\":{\"color\":\"#E5ECF6\",\"width\":0.5},\"pattern\":{\"fillmode\":\"overlay\",\"size\":10,\"solidity\":0.2}},\"type\":\"barpolar\"}],\"pie\":[{\"automargin\":true,\"type\":\"pie\"}]},\"layout\":{\"autotypenumbers\":\"strict\",\"colorway\":[\"#636efa\",\"#EF553B\",\"#00cc96\",\"#ab63fa\",\"#FFA15A\",\"#19d3f3\",\"#FF6692\",\"#B6E880\",\"#FF97FF\",\"#FECB52\"],\"font\":{\"color\":\"#2a3f5f\"},\"hovermode\":\"closest\",\"hoverlabel\":{\"align\":\"left\"},\"paper_bgcolor\":\"white\",\"plot_bgcolor\":\"#E5ECF6\",\"polar\":{\"bgcolor\":\"#E5ECF6\",\"angularaxis\":{\"gridcolor\":\"white\",\"linecolor\":\"white\",\"ticks\":\"\"},\"radialaxis\":{\"gridcolor\":\"white\",\"linecolor\":\"white\",\"ticks\":\"\"}},\"ternary\":{\"bgcolor\":\"#E5ECF6\",\"aaxis\":{\"gridcolor\":\"white\",\"linecolor\":\"white\",\"ticks\":\"\"},\"baxis\":{\"gridcolor\":\"white\",\"linecolor\":\"white\",\"ticks\":\"\"},\"caxis\":{\"gridcolor\":\"white\",\"linecolor\":\"white\",\"ticks\":\"\"}},\"coloraxis\":{\"colorbar\":{\"outlinewidth\":0,\"ticks\":\"\"}},\"colorscale\":{\"sequential\":[[0.0,\"#0d0887\"],[0.1111111111111111,\"#46039f\"],[0.2222222222222222,\"#7201a8\"],[0.3333333333333333,\"#9c179e\"],[0.4444444444444444,\"#bd3786\"],[0.5555555555555556,\"#d8576b\"],[0.6666666666666666,\"#ed7953\"],[0.7777777777777778,\"#fb9f3a\"],[0.8888888888888888,\"#fdca26\"],[1.0,\"#f0f921\"]],\"sequentialminus\":[[0.0,\"#0d0887\"],[0.1111111111111111,\"#46039f\"],[0.2222222222222222,\"#7201a8\"],[0.3333333333333333,\"#9c179e\"],[0.4444444444444444,\"#bd3786\"],[0.5555555555555556,\"#d8576b\"],[0.6666666666666666,\"#ed7953\"],[0.7777777777777778,\"#fb9f3a\"],[0.8888888888888888,\"#fdca26\"],[1.0,\"#f0f921\"]],\"diverging\":[[0,\"#8e0152\"],[0.1,\"#c51b7d\"],[0.2,\"#de77ae\"],[0.3,\"#f1b6da\"],[0.4,\"#fde0ef\"],[0.5,\"#f7f7f7\"],[0.6,\"#e6f5d0\"],[0.7,\"#b8e186\"],[0.8,\"#7fbc41\"],[0.9,\"#4d9221\"],[1,\"#276419\"]]},\"xaxis\":{\"gridcolor\":\"white\",\"linecolor\":\"white\",\"ticks\":\"\",\"title\":{\"standoff\":15},\"zerolinecolor\":\"white\",\"automargin\":true,\"zerolinewidth\":2},\"yaxis\":{\"gridcolor\":\"white\",\"linecolor\":\"white\",\"ticks\":\"\",\"title\":{\"standoff\":15},\"zerolinecolor\":\"white\",\"automargin\":true,\"zerolinewidth\":2},\"scene\":{\"xaxis\":{\"backgroundcolor\":\"#E5ECF6\",\"gridcolor\":\"white\",\"linecolor\":\"white\",\"showbackground\":true,\"ticks\":\"\",\"zerolinecolor\":\"white\",\"gridwidth\":2},\"yaxis\":{\"backgroundcolor\":\"#E5ECF6\",\"gridcolor\":\"white\",\"linecolor\":\"white\",\"showbackground\":true,\"ticks\":\"\",\"zerolinecolor\":\"white\",\"gridwidth\":2},\"zaxis\":{\"backgroundcolor\":\"#E5ECF6\",\"gridcolor\":\"white\",\"linecolor\":\"white\",\"showbackground\":true,\"ticks\":\"\",\"zerolinecolor\":\"white\",\"gridwidth\":2}},\"shapedefaults\":{\"line\":{\"color\":\"#2a3f5f\"}},\"annotationdefaults\":{\"arrowcolor\":\"#2a3f5f\",\"arrowhead\":0,\"arrowwidth\":1},\"geo\":{\"bgcolor\":\"white\",\"landcolor\":\"#E5ECF6\",\"subunitcolor\":\"white\",\"showland\":true,\"showlakes\":true,\"lakecolor\":\"white\"},\"title\":{\"x\":0.05},\"mapbox\":{\"style\":\"light\"}}},\"xaxis\":{\"anchor\":\"y\",\"domain\":[0.0,1.0],\"title\":{\"text\":\"category_code\"}},\"yaxis\":{\"anchor\":\"x\",\"domain\":[0.0,1.0],\"title\":{\"text\":\"count(product_id)\"}},\"legend\":{\"tracegroupgap\":0},\"margin\":{\"t\":60},\"barmode\":\"relative\"},                        {\"responsive\": true}                    ).then(function(){\n",
       "                            \n",
       "var gd = document.getElementById('f0581ae4-6b99-4f44-87d2-a2adfaeb787f');\n",
       "var x = new MutationObserver(function (mutations, observer) {{\n",
       "        var display = window.getComputedStyle(gd).display;\n",
       "        if (!display || display === 'none') {{\n",
       "            console.log([gd, 'removed!']);\n",
       "            Plotly.purge(gd);\n",
       "            observer.disconnect();\n",
       "        }}\n",
       "}});\n",
       "\n",
       "// Listen for the removal of the full notebook cells\n",
       "var notebookContainer = gd.closest('#notebook-container');\n",
       "if (notebookContainer) {{\n",
       "    x.observe(notebookContainer, {childList: true});\n",
       "}}\n",
       "\n",
       "// Listen for the clearing of the current output cell\n",
       "var outputEl = gd.closest('.output');\n",
       "if (outputEl) {{\n",
       "    x.observe(outputEl, {childList: true});\n",
       "}}\n",
       "\n",
       "                        })                };                });            </script>        </div>"
      ]
     },
     "metadata": {},
     "output_type": "display_data"
    }
   ],
   "source": [
    "q2_df_pandas.plot.bar(x='category_code', y = 'count(product_id)')"
   ]
  },
  {
   "cell_type": "code",
   "execution_count": null,
   "id": "3264c046-6553-4546-b76e-022ce5d9eaa2",
   "metadata": {},
   "outputs": [],
   "source": []
  }
 ],
 "metadata": {
  "kernelspec": {
   "display_name": "Python 3 (ipykernel)",
   "language": "python",
   "name": "python3"
  },
  "language_info": {
   "codemirror_mode": {
    "name": "ipython",
    "version": 3
   },
   "file_extension": ".py",
   "mimetype": "text/x-python",
   "name": "python",
   "nbconvert_exporter": "python",
   "pygments_lexer": "ipython3",
   "version": "3.9.10"
  }
 },
 "nbformat": 4,
 "nbformat_minor": 5
}
