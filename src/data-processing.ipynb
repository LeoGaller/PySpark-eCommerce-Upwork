{
 "cells": [
  {
   "cell_type": "markdown",
   "id": "82294fab-1356-4159-bce3-55da25085fdc",
   "metadata": {},
   "source": [
    "# eCommerce behavior data from multi category store using pyspark"
   ]
  },
  {
   "cell_type": "markdown",
   "id": "add5de1e-e2ba-488b-ab52-66d71db6634a",
   "metadata": {},
   "source": [
    "### Te cell below connects the notebook pyspark to the created cluster"
   ]
  },
  {
   "cell_type": "code",
   "execution_count": 189,
   "id": "3a1555c2-3934-41a5-9001-874a0b090e50",
   "metadata": {},
   "outputs": [
    {
     "data": {
      "text/plain": [
       "DataFrame[key: string, value: string]"
      ]
     },
     "execution_count": 189,
     "metadata": {},
     "output_type": "execute_result"
    }
   ],
   "source": [
    "import pyspark.pandas as ps\n",
    "from pyspark.sql import SparkSession\n",
    "from pyspark.sql.types import *\n",
    "from pyspark.sql.functions import to_timestamp, to_date, date_format\n",
    "import seaborn as sns\n",
    "\n",
    "spark = SparkSession.\\\n",
    "        builder.\\\n",
    "        appName(\"pyspark-notebook\").\\\n",
    "        master(\"spark://spark-master:7077\").\\\n",
    "        getOrCreate()\n",
    "spark.sql(\"set spark.sql.legacy.timeParserPolicy=LEGACY\")"
   ]
  },
  {
   "cell_type": "markdown",
   "id": "75a9029e-037e-44bc-a497-4e4382bb5df6",
   "metadata": {},
   "source": [
    "### Next steps\n",
    "1. Create a variable that will have the path to the data\n",
    "2. Define the schema of the table for the read CSV to be faster"
   ]
  },
  {
   "cell_type": "code",
   "execution_count": 78,
   "id": "3f6f1fe7-bffc-4878-babb-d66f94699e4b",
   "metadata": {},
   "outputs": [],
   "source": [
    "# 1.\n",
    "data_pth_1 = \"/opt/workspace/data/2019-Nov.csv\"\n",
    "data_pth_2 = \"/opt/workspace/data/2019-Oct.csv\""
   ]
  },
  {
   "cell_type": "code",
   "execution_count": 79,
   "id": "9fe1fd20-812a-4930-9e28-187416e619e5",
   "metadata": {},
   "outputs": [],
   "source": [
    "# 2. To define the schema of the data I must import the StructType, because it acelerates the data reading\n",
    "data_sch = StructType([StructField(\"event_time\", StringType(),   True),\n",
    "                       StructField(\"event_type\", StringType(), True),\n",
    "                       StructField(\"product_id\", LongType(),   True),\n",
    "                       StructField(\"category_id\", LongType (), True),\n",
    "                       StructField(\"category_code\", StringType(), True),\n",
    "                       StructField(\"brand\", StringType(),      True),\n",
    "                       StructField(\"price\", DoubleType(),      True),\n",
    "                       StructField(\"user_id\", LongType(),      True),\n",
    "                       StructField(\"user_session\", StringType(), True)])"
   ]
  },
  {
   "cell_type": "code",
   "execution_count": 80,
   "id": "55fc2fbd-0c3f-4c35-9ff4-3bae168ffcc2",
   "metadata": {},
   "outputs": [],
   "source": [
    "oct_df = spark.read \\\n",
    "    .option(\"header\",True) \\\n",
    "    .csv(data_pth_2, schema=data_sch)"
   ]
  },
  {
   "cell_type": "code",
   "execution_count": 81,
   "id": "27b59829-c648-4290-9e17-c9f8a7765eaa",
   "metadata": {},
   "outputs": [],
   "source": [
    "# Create the date and weekday column\n",
    "oct_df = oct_df.withColumn('event_time_day', to_date(oct_df.event_time, 'yyyy-MM-dd')) \\\n",
    "               .withColumn('event_time_wd' , date_format(oct_df.event_time, 'E')) "
   ]
  },
  {
   "cell_type": "code",
   "execution_count": 82,
   "id": "afc07539-2148-4d1c-9050-2e8f1c384a21",
   "metadata": {},
   "outputs": [],
   "source": [
    "nov_df = spark.read \\\n",
    "    .option(\"header\",True) \\\n",
    "    .csv(data_pth_1, schema=data_sch)"
   ]
  },
  {
   "cell_type": "code",
   "execution_count": 83,
   "id": "6d7c678f-6b4f-40c3-8320-424d1add0826",
   "metadata": {},
   "outputs": [],
   "source": [
    "nov_df = nov_df.withColumn('event_time_day',to_date(nov_df.event_time, 'yyyy-MM-dd')) \\\n",
    "               .withColumn('event_time_wd', date_format(nov_df.event_time, 'E'))"
   ]
  },
  {
   "cell_type": "code",
   "execution_count": 84,
   "id": "eb4be96a-fb91-408d-9c4b-15591f2ec798",
   "metadata": {},
   "outputs": [
    {
     "data": {
      "text/plain": [
       "['event_time',\n",
       " 'event_type',\n",
       " 'product_id',\n",
       " 'category_id',\n",
       " 'category_code',\n",
       " 'brand',\n",
       " 'price',\n",
       " 'user_id',\n",
       " 'user_session',\n",
       " 'event_time_day',\n",
       " 'event_time_wd']"
      ]
     },
     "execution_count": 84,
     "metadata": {},
     "output_type": "execute_result"
    }
   ],
   "source": [
    "# Show columns\n",
    "oct_df.columns"
   ]
  },
  {
   "cell_type": "code",
   "execution_count": 85,
   "id": "8d3a5b49-118c-429d-8822-bb9b835c0595",
   "metadata": {},
   "outputs": [
    {
     "data": {
      "text/plain": [
       "[('event_time', 'string'),\n",
       " ('event_type', 'string'),\n",
       " ('product_id', 'bigint'),\n",
       " ('category_id', 'bigint'),\n",
       " ('category_code', 'string'),\n",
       " ('brand', 'string'),\n",
       " ('price', 'double'),\n",
       " ('user_id', 'bigint'),\n",
       " ('user_session', 'string'),\n",
       " ('event_time_day', 'date'),\n",
       " ('event_time_wd', 'string')]"
      ]
     },
     "execution_count": 85,
     "metadata": {},
     "output_type": "execute_result"
    }
   ],
   "source": [
    "# Show datatypes on each column\n",
    "oct_df.dtypes"
   ]
  },
  {
   "cell_type": "markdown",
   "id": "5d650985-21fd-4d61-9efa-003da7dc74fb",
   "metadata": {},
   "source": [
    "### Start to answering the business questions\n",
    "1. On what date do customers shop the most?"
   ]
  },
  {
   "cell_type": "code",
   "execution_count": 132,
   "id": "40909b93-44e1-4619-ba14-334908090dd6",
   "metadata": {},
   "outputs": [],
   "source": [
    "oct_df_x = oct_df.filter(oct_df.event_type == 'purchase') \\\n",
    "    .groupBy(oct_df.event_time_day) \\\n",
    "    .agg({\"event_time\": \"count\"}) \\\n",
    "    .sort('count(event_time)', ascending=False)"
   ]
  },
  {
   "cell_type": "code",
   "execution_count": 133,
   "id": "0c04e9c5-53a6-4328-ba88-bd9860825601",
   "metadata": {},
   "outputs": [
    {
     "data": {
      "text/plain": [
       "DataFrame[event_time_day: date, count(event_time): bigint]"
      ]
     },
     "execution_count": 133,
     "metadata": {},
     "output_type": "execute_result"
    }
   ],
   "source": [
    "gdf_final = oct_df_x.unionAll( nov_df.filter(nov_df.event_type == 'purchase') \\\n",
    "    .groupBy(nov_df.event_time_day) \\\n",
    "    .agg({\"event_time\": \"count\"}) \\\n",
    "    .sort('count(event_time)', ascending=False))\n",
    "gdf_final.cache()"
   ]
  },
  {
   "cell_type": "code",
   "execution_count": 174,
   "id": "6e1e2d3d-496b-42c2-9a35-80f720588811",
   "metadata": {
    "tags": []
   },
   "outputs": [],
   "source": [
    "ps_df_final = ps.DataFrame(gdf_final)"
   ]
  },
  {
   "cell_type": "code",
   "execution_count": 193,
   "id": "be3e7d5a-7efe-4e04-a2ec-d37ee2d3e784",
   "metadata": {},
   "outputs": [
    {
     "data": {
      "text/plain": [
       "Index(['event_time_day', 'count(event_time)'], dtype='object')"
      ]
     },
     "execution_count": 193,
     "metadata": {},
     "output_type": "execute_result"
    }
   ],
   "source": [
    "ps_df_final.columns"
   ]
  },
  {
   "cell_type": "code",
   "execution_count": 201,
   "id": "1dfa31c1-a289-417b-a769-b3e97bd8be0c",
   "metadata": {},
   "outputs": [
    {
     "data": {
      "text/plain": [
       "Index(['event_time_day', 'count(event_time)'], dtype='object')"
      ]
     },
     "execution_count": 201,
     "metadata": {},
     "output_type": "execute_result"
    }
   ],
   "source": [
    "# .plot.bar(x = 'event_time', y = 'count(event_time)')\n",
    "ps_df_final.sort_values(by='count(event_time)', ascending=False, inplace=True)\n",
    "ps_df_final.columns"
   ]
  },
  {
   "cell_type": "code",
   "execution_count": 203,
   "id": "bbfb16f7-f985-4a20-9fed-d1ee38cfb4ca",
   "metadata": {},
   "outputs": [
    {
     "data": {
      "image/png": "[encoded data removed]",
      "text/plain": [
       "<Figure size 432x288 with 1 Axes>"
      ]
     },
     "metadata": {
      "needs_background": "light"
     },
     "output_type": "display_data"
    }
   ],
   "source": [
    "ax = sns.barplot(x='event_time_day', y='count(event_time)', data = ps_df_final.query('__index_level_0__ <= 4').to_pandas())"
   ]
  },
  {
   "cell_type": "code",
   "execution_count": null,
   "id": "25d8f513-0692-46ba-bc28-6714d7d3970b",
   "metadata": {},
   "outputs": [],
   "source": []
  }
 ],
 "metadata": {
  "kernelspec": {
   "display_name": "Python 3 (ipykernel)",
   "language": "python",
   "name": "python3"
  },
  "language_info": {
   "codemirror_mode": {
    "name": "ipython",
    "version": 3
   },
   "file_extension": ".py",
   "mimetype": "text/x-python",
   "name": "python",
   "nbconvert_exporter": "python",
   "pygments_lexer": "ipython3",
   "version": "3.9.10"
  }
 },
 "nbformat": 4,
 "nbformat_minor": 5
}
